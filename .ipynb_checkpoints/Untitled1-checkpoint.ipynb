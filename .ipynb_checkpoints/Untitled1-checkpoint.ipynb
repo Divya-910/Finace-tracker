{
 "cells": [
  {
   "cell_type": "code",
   "execution_count": 21,
   "id": "3325bfc1-f2a0-409a-ae9c-7921637f6212",
   "metadata": {},
   "outputs": [
    {
     "name": "stdout",
     "output_type": "stream",
     "text": [
      "Data preprocessing completed.\n"
     ]
    }
   ],
   "source": [
    "import pandas as pd\n",
    "from sklearn.model_selection import train_test_split\n",
    "from sklearn.preprocessing import LabelEncoder, OneHotEncoder\n",
    "from sklearn.linear_model import LogisticRegression\n",
    "from sklearn.metrics import accuracy_score\n",
    "import numpy as np\n",
    "\n",
    "# Load the dataset\n",
    "df = pd.read_csv(\"supervised_transactions.csv\")\n",
    "\n",
    "# Encode category as a numerical value (using label encoding)\n",
    "label_encoder = LabelEncoder()\n",
    "df['category_encoded'] = label_encoder.fit_transform(df['category'])\n",
    "\n",
    "# Map 'green' to 0 and 'red' to 1 for the status (binary classification)\n",
    "df['status_encoded'] = df['status'].map({'green': 0, 'red': 1})\n",
    "\n",
    "# Features (X) and Labels (y)\n",
    "X = df[['category_encoded', 'amount']]\n",
    "y = df['status_encoded']\n",
    "\n",
    "# Split the data into training and testing sets (80% train, 20% test)\n",
    "X_train, X_test, y_train, y_test = train_test_split(X, y, test_size=0.2, random_state=42)\n",
    "\n",
    "print(\"Data preprocessing completed.\")\n"
   ]
  },
  {
   "cell_type": "code",
   "execution_count": 22,
   "id": "365576b9-c585-4395-a347-1cef3aa09ce7",
   "metadata": {},
   "outputs": [
    {
     "name": "stdout",
     "output_type": "stream",
     "text": [
      "Model Accuracy: 58.77%\n"
     ]
    }
   ],
   "source": [
    "# Initialize logistic regression model\n",
    "model = LogisticRegression()\n",
    "\n",
    "# Train the model\n",
    "model.fit(X_train, y_train)\n",
    "\n",
    "# Predict the results on the test set\n",
    "y_pred = model.predict(X_test)\n",
    "\n",
    "# Evaluate the model's performance\n",
    "accuracy = accuracy_score(y_test, y_pred)\n",
    "print(f\"Model Accuracy: {accuracy * 100:.2f}%\")\n"
   ]
  },
  {
   "cell_type": "code",
   "execution_count": 23,
   "id": "253372c5-a725-41d5-a467-bb625648e6b8",
   "metadata": {},
   "outputs": [
    {
     "name": "stdout",
     "output_type": "stream",
     "text": [
      "Thresholds for each category:\n",
      "Category: Education, Threshold: -0.00\n",
      "Category: Food, Threshold: -0.00\n",
      "Category: Health, Threshold: -0.00\n",
      "Category: Miscellaneous, Threshold: -0.00\n",
      "Category: Utilities, Threshold: -0.00\n",
      "Category: Entertainment, Threshold: -0.00\n",
      "Category: Groceries, Threshold: -0.00\n",
      "Category: Transportation, Threshold: -0.00\n",
      "Category: Charity, Threshold: -0.00\n",
      "Category: Rent, Threshold: -0.00\n"
     ]
    }
   ],
   "source": [
    "# Calculate the threshold for each category\n",
    "thresholds = {}\n",
    "\n",
    "# For each category\n",
    "for category_id in df['category_encoded'].unique():\n",
    "    # Get all transactions for this category\n",
    "    category_data = df[df['category_encoded'] == category_id]\n",
    "    \n",
    "    # Get the logistic regression coefficients\n",
    "    coef = model.coef_[0]  # Coefficients for the features\n",
    "    \n",
    "    # The decision boundary is where the probability is 0.5 (logistic regression's threshold)\n",
    "    # We solve for amount: coef[0] * category_encoded + coef[1] * amount = 0\n",
    "    # Since category_encoded is constant for each category, we isolate amount\n",
    "    amount_threshold = -(coef[0] * category_id) / coef[1]\n",
    "    \n",
    "    # Store the threshold for this category\n",
    "    thresholds[label_encoder.inverse_transform([category_id])[0]] = amount_threshold\n",
    "\n",
    "# Display the thresholds for each category\n",
    "print(\"Thresholds for each category:\")\n",
    "for category, threshold in thresholds.items():\n",
    "    print(f\"Category: {category}, Threshold: {threshold:.2f}\")\n"
   ]
  }
 ],
 "metadata": {
  "kernelspec": {
   "display_name": "Python 3 (ipykernel)",
   "language": "python",
   "name": "python3"
  },
  "language_info": {
   "codemirror_mode": {
    "name": "ipython",
    "version": 3
   },
   "file_extension": ".py",
   "mimetype": "text/x-python",
   "name": "python",
   "nbconvert_exporter": "python",
   "pygments_lexer": "ipython3",
   "version": "3.11.5"
  }
 },
 "nbformat": 4,
 "nbformat_minor": 5
}

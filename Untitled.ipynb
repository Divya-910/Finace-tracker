{
 "cells": [
  {
   "cell_type": "code",
   "execution_count": 18,
   "id": "89db5789-d8c5-4b9d-9614-dc28217a980a",
   "metadata": {},
   "outputs": [
    {
     "name": "stdout",
     "output_type": "stream",
     "text": [
      "Requirement already satisfied: faker in /opt/anaconda3/lib/python3.12/site-packages (37.1.0)\n",
      "Requirement already satisfied: tzdata in /opt/anaconda3/lib/python3.12/site-packages (from faker) (2023.3)\n"
     ]
    }
   ],
   "source": [
    "!pip install faker\n"
   ]
  },
  {
   "cell_type": "code",
   "execution_count": 19,
   "id": "305267e1-6425-4131-ace4-4ff9248e7e55",
   "metadata": {},
   "outputs": [
    {
     "name": "stdout",
     "output_type": "stream",
     "text": [
      "         category   amount        date status\n",
      "0       Education   198.78  2022-04-26  green\n",
      "1  Transportation  2403.26  2024-12-12  green\n",
      "2       Utilities  2315.08  2024-10-14  green\n",
      "3       Education  6088.58  2024-12-24  green\n",
      "4       Utilities  3795.82  2023-08-20    red\n"
     ]
    }
   ],
   "source": [
    "import pandas as pd\n",
    "import random\n",
    "from datetime import datetime, timedelta\n",
    "\n",
    "# Categories and their respective thresholds\n",
    "categories = {\n",
    "    'Rent': 30000,          # Amount > 5000 is red\n",
    "    'Utilities': 3000,     # Amount > 1500 is red\n",
    "    'Entertainment': 5000, # Amount > 1000 is red\n",
    "    'Transportation': 4000, # Amount > 3000 is red\n",
    "    'Food': 2000,          # Amount > 2000 is red\n",
    "    'Health': 5000,        # Amount > 1500 is red\n",
    "    'Education': 30000,     # Amount > 2000 is red\n",
    "    'Charity': 2000,       # Amount > 1000 is red\n",
    "    'Groceries': 4000,     # Amount > 2000 is red\n",
    "    'Miscellaneous': 1500,  # Amount > 500 is red\n",
    "}\n",
    "\n",
    "# Function to generate fake transaction data\n",
    "def generate_transaction_data(num_records=300000):\n",
    "    data = []\n",
    "    start_date = datetime(2020, 1, 1)\n",
    "    end_date = datetime(2025, 1, 1)\n",
    "    categories_list = list(categories.keys())\n",
    "\n",
    "    for _ in range(num_records):\n",
    "        # Randomly choose category and generate amount\n",
    "        category = random.choice(categories_list)\n",
    "        threshold = categories[category]\n",
    "        \n",
    "        # Adjust Rent amounts to be significantly higher\n",
    "        if category == 'Rent':\n",
    "            amount = round(random.uniform(10000, 50000), 2)  # Ensure Rent is high, generally 10k to 50k\n",
    "        else:\n",
    "            amount = round(random.uniform(100, 10000), 2)  # Random amount between 100 and 10,000 for other categories\n",
    "\n",
    "        # Determine if it's red or green based on the threshold\n",
    "        status = 'red' if amount > threshold else 'green'\n",
    "\n",
    "        # Random date between 2020 and 2025\n",
    "        transaction_date = start_date + timedelta(days=random.randint(0, (end_date - start_date).days))\n",
    "\n",
    "        # Append to the data list\n",
    "        data.append({\n",
    "            'category': category,\n",
    "            'amount': amount,\n",
    "            'date': transaction_date.strftime('%Y-%m-%d'),\n",
    "            'status': status  # red or green\n",
    "        })\n",
    "\n",
    "    # Convert the data to a DataFrame\n",
    "    df = pd.DataFrame(data)\n",
    "    return df\n",
    "\n",
    "# Generate 30,000 transactions and save to CSV\n",
    "df = generate_transaction_data(300000)\n",
    "df.to_csv('supervised_transactions.csv', index=False)\n",
    "\n",
    "# Show sample data\n",
    "print(df.head())\n"
   ]
  },
  {
   "cell_type": "code",
   "execution_count": null,
   "id": "c7baf8ef-fafc-4ddb-bd36-451edcf032ca",
   "metadata": {},
   "outputs": [],
   "source": []
  }
 ],
 "metadata": {
  "kernelspec": {
   "display_name": "Python 3 (ipykernel)",
   "language": "python",
   "name": "python3"
  },
  "language_info": {
   "codemirror_mode": {
    "name": "ipython",
    "version": 3
   },
   "file_extension": ".py",
   "mimetype": "text/x-python",
   "name": "python",
   "nbconvert_exporter": "python",
   "pygments_lexer": "ipython3",
   "version": "3.11.5"
  }
 },
 "nbformat": 4,
 "nbformat_minor": 5
}
